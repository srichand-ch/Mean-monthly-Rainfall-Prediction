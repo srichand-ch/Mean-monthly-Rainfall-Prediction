{
 "cells": [
  {
   "cell_type": "code",
   "execution_count": 1,
   "id": "18f00f3a",
   "metadata": {},
   "outputs": [],
   "source": [
    "import xgboost as xg                       #IMPORTED REQUIRED LIBRARIES\n",
    "import pandas as pd\n",
    "import numpy as np\n",
    "import matplotlib.pyplot as plt\n",
    "import pylab\n",
    "from sklearn.svm import SVR "
   ]
  },
  {
   "cell_type": "code",
   "execution_count": 2,
   "id": "88775cfa",
   "metadata": {},
   "outputs": [],
   "source": [
    "model=xg.XGBRegressor                 #FIRST USED XGBREGRESSOR TO FIND THE REGRESSION DATA"
   ]
  },
  {
   "cell_type": "code",
   "execution_count": 3,
   "id": "0a263a12",
   "metadata": {},
   "outputs": [],
   "source": [
    "all_years=np.loadtxt('S_n_I_A_N_P_An_Io_noaa2.txt')   #CONVERTED THE DATA TO A NUMPY ARRAY"
   ]
  },
  {
   "cell_type": "code",
   "execution_count": 4,
   "id": "561863e2",
   "metadata": {},
   "outputs": [
    {
     "data": {
      "text/plain": [
       "array([[ 5.99257e-01,  1.67651e-01,  1.02438e+01, ...,  1.08410e+00,\n",
       "         5.60382e-01, -2.95856e-01],\n",
       "       [ 6.63879e-01,  2.12788e-01,  4.41611e+01, ..., -1.46579e+00,\n",
       "         1.18954e+00, -3.29518e-02],\n",
       "       [-4.28772e-01,  3.36627e-01,  4.76807e+00, ...,  1.14019e-01,\n",
       "         7.83738e-01, -6.44708e-01],\n",
       "       ...,\n",
       "       [ 9.23487e-01,  2.00707e+00, -5.61403e+01, ...,  3.17965e-02,\n",
       "        -1.88361e-01,  5.34373e-01],\n",
       "       [ 2.07229e-01,  2.25983e+00, -4.37754e+01, ..., -1.43240e+00,\n",
       "         8.52037e-03,  7.71095e-01],\n",
       "       [ 4.08653e-01,  2.48014e+00, -4.04298e+01, ..., -8.68589e-01,\n",
       "         2.37157e-01,  6.18231e-01]])"
      ]
     },
     "execution_count": 4,
     "metadata": {},
     "output_type": "execute_result"
    }
   ],
   "source": [
    "all_years"
   ]
  },
  {
   "cell_type": "code",
   "execution_count": 5,
   "id": "8b9c3c35",
   "metadata": {},
   "outputs": [
    {
     "data": {
      "text/plain": [
       "array([ 5.99257e-01,  1.67651e-01,  1.02438e+01,  4.84010e-01,\n",
       "        8.37464e-04,  1.08410e+00,  5.60382e-01, -2.95856e-01])"
      ]
     },
     "execution_count": 5,
     "metadata": {},
     "output_type": "execute_result"
    }
   ],
   "source": [
    "all_years[0]"
   ]
  },
  {
   "cell_type": "markdown",
   "id": "757284b1",
   "metadata": {},
   "source": [
    "As sir said to delete the first column so i deleted the first column.\n",
    "\n"
   ]
  },
  {
   "cell_type": "code",
   "execution_count": 6,
   "id": "69b82412",
   "metadata": {},
   "outputs": [],
   "source": [
    "all_years = np.delete(all_years,0,1)"
   ]
  },
  {
   "cell_type": "code",
   "execution_count": 7,
   "id": "bec28312",
   "metadata": {},
   "outputs": [
    {
     "data": {
      "text/plain": [
       "array([ 1.67651e-01,  1.02438e+01,  4.84010e-01,  8.37464e-04,\n",
       "        1.08410e+00,  5.60382e-01, -2.95856e-01])"
      ]
     },
     "execution_count": 7,
     "metadata": {},
     "output_type": "execute_result"
    }
   ],
   "source": [
    "all_years[0]"
   ]
  },
  {
   "cell_type": "markdown",
   "id": "874aa2a2",
   "metadata": {},
   "source": [
    "As the ISMR column is in second column so I swaped the first and second column for my convenience."
   ]
  },
  {
   "cell_type": "code",
   "execution_count": 8,
   "id": "dbeb118e",
   "metadata": {},
   "outputs": [],
   "source": [
    "all_years[:,[1,0]] = all_years[:,[0,1]] "
   ]
  },
  {
   "cell_type": "code",
   "execution_count": 9,
   "id": "5d27831d",
   "metadata": {},
   "outputs": [
    {
     "data": {
      "text/plain": [
       "array([-41.5772  ,   0.304163,  -0.131097,   0.426335,  -1.31826 ,\n",
       "         0.539299,   0.504654])"
      ]
     },
     "execution_count": 9,
     "metadata": {},
     "output_type": "execute_result"
    }
   ],
   "source": [
    "all_years[5]"
   ]
  },
  {
   "cell_type": "markdown",
   "id": "d21a47b8",
   "metadata": {},
   "source": [
    "#  Use ‘Xgboost regresssor’ to predict ISMR for different lag values of the drivers and print the true and predicted values of the ISMR for different lags in a tabular form.Plot the true values vs predicted values of ISMR in scatter plots for different lags separately. Find out which lag is statistically showing best result and elaborate why.\n",
    "\n",
    "So here i used the regressor for different lags and printed the data in tabularform and the scatter graph respectively for different lags."
   ]
  },
  {
   "cell_type": "code",
   "execution_count": 10,
   "id": "08c9d991",
   "metadata": {},
   "outputs": [
    {
     "name": "stdout",
     "output_type": "stream",
     "text": [
      "FOR LAG =  0\n"
     ]
    },
    {
     "data": {
      "image/png": "[encoded data removed]",
      "text/plain": [
       "<Figure size 432x288 with 1 Axes>"
      ]
     },
     "metadata": {
      "needs_background": "light"
     },
     "output_type": "display_data"
    },
    {
     "data": {
      "text/html": [
       "<div>\n",
       "<style scoped>\n",
       "    .dataframe tbody tr th:only-of-type {\n",
       "        vertical-align: middle;\n",
       "    }\n",
       "\n",
       "    .dataframe tbody tr th {\n",
       "        vertical-align: top;\n",
       "    }\n",
       "\n",
       "    .dataframe thead th {\n",
       "        text-align: right;\n",
       "    }\n",
       "</style>\n",
       "<table border=\"1\" class=\"dataframe\">\n",
       "  <thead>\n",
       "    <tr style=\"text-align: right;\">\n",
       "      <th></th>\n",
       "      <th>PREDICTED</th>\n",
       "      <th>ORIGINAL</th>\n",
       "    </tr>\n",
       "  </thead>\n",
       "  <tbody>\n",
       "    <tr>\n",
       "      <th>0</th>\n",
       "      <td>-26.901613</td>\n",
       "      <td>-41.577200</td>\n",
       "    </tr>\n",
       "    <tr>\n",
       "      <th>1</th>\n",
       "      <td>-1.526224</td>\n",
       "      <td>0.132196</td>\n",
       "    </tr>\n",
       "    <tr>\n",
       "      <th>2</th>\n",
       "      <td>-13.313649</td>\n",
       "      <td>-17.658400</td>\n",
       "    </tr>\n",
       "    <tr>\n",
       "      <th>3</th>\n",
       "      <td>13.634512</td>\n",
       "      <td>14.850900</td>\n",
       "    </tr>\n",
       "    <tr>\n",
       "      <th>4</th>\n",
       "      <td>-13.734524</td>\n",
       "      <td>-21.739700</td>\n",
       "    </tr>\n",
       "    <tr>\n",
       "      <th>...</th>\n",
       "      <td>...</td>\n",
       "      <td>...</td>\n",
       "    </tr>\n",
       "    <tr>\n",
       "      <th>140</th>\n",
       "      <td>-27.605467</td>\n",
       "      <td>-34.467200</td>\n",
       "    </tr>\n",
       "    <tr>\n",
       "      <th>141</th>\n",
       "      <td>-14.578470</td>\n",
       "      <td>-12.057900</td>\n",
       "    </tr>\n",
       "    <tr>\n",
       "      <th>142</th>\n",
       "      <td>44.187653</td>\n",
       "      <td>62.651500</td>\n",
       "    </tr>\n",
       "    <tr>\n",
       "      <th>143</th>\n",
       "      <td>-11.979216</td>\n",
       "      <td>-15.239200</td>\n",
       "    </tr>\n",
       "    <tr>\n",
       "      <th>144</th>\n",
       "      <td>-36.245567</td>\n",
       "      <td>-40.429800</td>\n",
       "    </tr>\n",
       "  </tbody>\n",
       "</table>\n",
       "<p>145 rows × 2 columns</p>\n",
       "</div>"
      ],
      "text/plain": [
       "     PREDICTED   ORIGINAL\n",
       "0   -26.901613 -41.577200\n",
       "1    -1.526224   0.132196\n",
       "2   -13.313649 -17.658400\n",
       "3    13.634512  14.850900\n",
       "4   -13.734524 -21.739700\n",
       "..         ...        ...\n",
       "140 -27.605467 -34.467200\n",
       "141 -14.578470 -12.057900\n",
       "142  44.187653  62.651500\n",
       "143 -11.979216 -15.239200\n",
       "144 -36.245567 -40.429800\n",
       "\n",
       "[145 rows x 2 columns]"
      ]
     },
     "execution_count": 10,
     "metadata": {},
     "output_type": "execute_result"
    }
   ],
   "source": [
    "lag = 0\n",
    "Y=[]\n",
    "X=[]\n",
    "for j in range(5,len(all_years),6):\n",
    "    Y.append(all_years[j][0])\n",
    "    p = all_years[j-lag]\n",
    "    X.append(p[1:7])\n",
    "X_train = X[0:120]\n",
    "Y_train=Y[0:120]\n",
    "X_test = X[120:145]\n",
    "Y_test = Y[120:145]\n",
    "xgb_r = xg.XGBRegressor(objective ='reg:squarederror',n_estimators = 10, seed = 123)\n",
    "xgb_r.fit(X,Y)\n",
    "pred_1 = xgb_r.predict(X)\n",
    "    \n",
    "print(\"FOR LAG = \",lag)\n",
    "d={\"PREDICTED\" : pred_1 ,\"ORIGINAL\" : Y}\n",
    "d=pd.DataFrame(d)\n",
    "plt.scatter(pred_1,Y)\n",
    "plt.show()\n",
    "d\n",
    "    \n",
    "    "
   ]
  },
  {
   "cell_type": "code",
   "execution_count": 11,
   "id": "bc843443",
   "metadata": {},
   "outputs": [
    {
     "name": "stdout",
     "output_type": "stream",
     "text": [
      "FOR LAG =  1\n"
     ]
    },
    {
     "data": {
      "image/png": "[encoded data removed]",
      "text/plain": [
       "<Figure size 432x288 with 1 Axes>"
      ]
     },
     "metadata": {
      "needs_background": "light"
     },
     "output_type": "display_data"
    },
    {
     "data": {
      "text/html": [
       "<div>\n",
       "<style scoped>\n",
       "    .dataframe tbody tr th:only-of-type {\n",
       "        vertical-align: middle;\n",
       "    }\n",
       "\n",
       "    .dataframe tbody tr th {\n",
       "        vertical-align: top;\n",
       "    }\n",
       "\n",
       "    .dataframe thead th {\n",
       "        text-align: right;\n",
       "    }\n",
       "</style>\n",
       "<table border=\"1\" class=\"dataframe\">\n",
       "  <thead>\n",
       "    <tr style=\"text-align: right;\">\n",
       "      <th></th>\n",
       "      <th>PREDICTED</th>\n",
       "      <th>ORIGINAL</th>\n",
       "    </tr>\n",
       "  </thead>\n",
       "  <tbody>\n",
       "    <tr>\n",
       "      <th>0</th>\n",
       "      <td>-28.245270</td>\n",
       "      <td>-41.577200</td>\n",
       "    </tr>\n",
       "    <tr>\n",
       "      <th>1</th>\n",
       "      <td>-0.729091</td>\n",
       "      <td>0.132196</td>\n",
       "    </tr>\n",
       "    <tr>\n",
       "      <th>2</th>\n",
       "      <td>-14.116233</td>\n",
       "      <td>-17.658400</td>\n",
       "    </tr>\n",
       "    <tr>\n",
       "      <th>3</th>\n",
       "      <td>12.292830</td>\n",
       "      <td>14.850900</td>\n",
       "    </tr>\n",
       "    <tr>\n",
       "      <th>4</th>\n",
       "      <td>-17.728649</td>\n",
       "      <td>-21.739700</td>\n",
       "    </tr>\n",
       "    <tr>\n",
       "      <th>...</th>\n",
       "      <td>...</td>\n",
       "      <td>...</td>\n",
       "    </tr>\n",
       "    <tr>\n",
       "      <th>140</th>\n",
       "      <td>-26.871105</td>\n",
       "      <td>-34.467200</td>\n",
       "    </tr>\n",
       "    <tr>\n",
       "      <th>141</th>\n",
       "      <td>-10.519317</td>\n",
       "      <td>-12.057900</td>\n",
       "    </tr>\n",
       "    <tr>\n",
       "      <th>142</th>\n",
       "      <td>49.597885</td>\n",
       "      <td>62.651500</td>\n",
       "    </tr>\n",
       "    <tr>\n",
       "      <th>143</th>\n",
       "      <td>-9.860699</td>\n",
       "      <td>-15.239200</td>\n",
       "    </tr>\n",
       "    <tr>\n",
       "      <th>144</th>\n",
       "      <td>-37.185158</td>\n",
       "      <td>-40.429800</td>\n",
       "    </tr>\n",
       "  </tbody>\n",
       "</table>\n",
       "<p>145 rows × 2 columns</p>\n",
       "</div>"
      ],
      "text/plain": [
       "     PREDICTED   ORIGINAL\n",
       "0   -28.245270 -41.577200\n",
       "1    -0.729091   0.132196\n",
       "2   -14.116233 -17.658400\n",
       "3    12.292830  14.850900\n",
       "4   -17.728649 -21.739700\n",
       "..         ...        ...\n",
       "140 -26.871105 -34.467200\n",
       "141 -10.519317 -12.057900\n",
       "142  49.597885  62.651500\n",
       "143  -9.860699 -15.239200\n",
       "144 -37.185158 -40.429800\n",
       "\n",
       "[145 rows x 2 columns]"
      ]
     },
     "execution_count": 11,
     "metadata": {},
     "output_type": "execute_result"
    }
   ],
   "source": [
    "lag = 1\n",
    "Y=[]\n",
    "X=[]\n",
    "for j in range(5,len(all_years),6):\n",
    "    Y.append(all_years[j][0])\n",
    "    p = all_years[j-lag]\n",
    "    X.append(p[1:7])\n",
    "X_train = X[0:120]\n",
    "Y_train=Y[0:120]\n",
    "X_test = X[120:145]\n",
    "Y_test = Y[120:145]\n",
    "xgb_r = xg.XGBRegressor(objective ='reg:squarederror',n_estimators = 10, seed = 123)\n",
    "xgb_r.fit(X,Y)\n",
    "pred_2 = xgb_r.predict(X)\n",
    "    \n",
    "print(\"FOR LAG = \",lag)\n",
    "d={\"PREDICTED\" : pred_2 ,\"ORIGINAL\" : Y}\n",
    "d=pd.DataFrame(d)\n",
    "plt.scatter(pred_2,Y)\n",
    "plt.show()\n",
    "d"
   ]
  },
  {
   "cell_type": "code",
   "execution_count": 12,
   "id": "9531f75d",
   "metadata": {},
   "outputs": [
    {
     "name": "stdout",
     "output_type": "stream",
     "text": [
      "FOR LAG =  2\n"
     ]
    },
    {
     "data": {
      "image/png": "[encoded data removed]",
      "text/plain": [
       "<Figure size 432x288 with 1 Axes>"
      ]
     },
     "metadata": {
      "needs_background": "light"
     },
     "output_type": "display_data"
    },
    {
     "data": {
      "text/html": [
       "<div>\n",
       "<style scoped>\n",
       "    .dataframe tbody tr th:only-of-type {\n",
       "        vertical-align: middle;\n",
       "    }\n",
       "\n",
       "    .dataframe tbody tr th {\n",
       "        vertical-align: top;\n",
       "    }\n",
       "\n",
       "    .dataframe thead th {\n",
       "        text-align: right;\n",
       "    }\n",
       "</style>\n",
       "<table border=\"1\" class=\"dataframe\">\n",
       "  <thead>\n",
       "    <tr style=\"text-align: right;\">\n",
       "      <th></th>\n",
       "      <th>PREDICTED</th>\n",
       "      <th>ORIGINAL</th>\n",
       "    </tr>\n",
       "  </thead>\n",
       "  <tbody>\n",
       "    <tr>\n",
       "      <th>0</th>\n",
       "      <td>-33.393234</td>\n",
       "      <td>-41.577200</td>\n",
       "    </tr>\n",
       "    <tr>\n",
       "      <th>1</th>\n",
       "      <td>-1.076203</td>\n",
       "      <td>0.132196</td>\n",
       "    </tr>\n",
       "    <tr>\n",
       "      <th>2</th>\n",
       "      <td>-18.299456</td>\n",
       "      <td>-17.658400</td>\n",
       "    </tr>\n",
       "    <tr>\n",
       "      <th>3</th>\n",
       "      <td>11.114928</td>\n",
       "      <td>14.850900</td>\n",
       "    </tr>\n",
       "    <tr>\n",
       "      <th>4</th>\n",
       "      <td>-17.321856</td>\n",
       "      <td>-21.739700</td>\n",
       "    </tr>\n",
       "    <tr>\n",
       "      <th>...</th>\n",
       "      <td>...</td>\n",
       "      <td>...</td>\n",
       "    </tr>\n",
       "    <tr>\n",
       "      <th>140</th>\n",
       "      <td>-30.056793</td>\n",
       "      <td>-34.467200</td>\n",
       "    </tr>\n",
       "    <tr>\n",
       "      <th>141</th>\n",
       "      <td>-9.723216</td>\n",
       "      <td>-12.057900</td>\n",
       "    </tr>\n",
       "    <tr>\n",
       "      <th>142</th>\n",
       "      <td>50.697956</td>\n",
       "      <td>62.651500</td>\n",
       "    </tr>\n",
       "    <tr>\n",
       "      <th>143</th>\n",
       "      <td>-4.369922</td>\n",
       "      <td>-15.239200</td>\n",
       "    </tr>\n",
       "    <tr>\n",
       "      <th>144</th>\n",
       "      <td>-31.584446</td>\n",
       "      <td>-40.429800</td>\n",
       "    </tr>\n",
       "  </tbody>\n",
       "</table>\n",
       "<p>145 rows × 2 columns</p>\n",
       "</div>"
      ],
      "text/plain": [
       "     PREDICTED   ORIGINAL\n",
       "0   -33.393234 -41.577200\n",
       "1    -1.076203   0.132196\n",
       "2   -18.299456 -17.658400\n",
       "3    11.114928  14.850900\n",
       "4   -17.321856 -21.739700\n",
       "..         ...        ...\n",
       "140 -30.056793 -34.467200\n",
       "141  -9.723216 -12.057900\n",
       "142  50.697956  62.651500\n",
       "143  -4.369922 -15.239200\n",
       "144 -31.584446 -40.429800\n",
       "\n",
       "[145 rows x 2 columns]"
      ]
     },
     "execution_count": 12,
     "metadata": {},
     "output_type": "execute_result"
    }
   ],
   "source": [
    "lag = 2\n",
    "Y=[]\n",
    "X=[]\n",
    "for j in range(5,len(all_years),6):\n",
    "    Y.append(all_years[j][0])\n",
    "    p = all_years[j-lag]\n",
    "    X.append(p[1:7])\n",
    "X_train = X[0:120]\n",
    "Y_train=Y[0:120]\n",
    "X_test = X[120:145]\n",
    "Y_test = Y[120:145]\n",
    "xgb_r = xg.XGBRegressor(objective ='reg:squarederror',n_estimators = 10, seed = 123)\n",
    "xgb_r.fit(X,Y)\n",
    "pred_3 = xgb_r.predict(X)\n",
    "    \n",
    "print(\"FOR LAG = \",lag)\n",
    "d={\"PREDICTED\" : pred_3 ,\"ORIGINAL\" : Y}\n",
    "d=pd.DataFrame(d)\n",
    "plt.scatter(pred_3,Y)\n",
    "plt.show()\n",
    "d"
   ]
  },
  {
   "cell_type": "code",
   "execution_count": 13,
   "id": "5f3db942",
   "metadata": {},
   "outputs": [
    {
     "name": "stdout",
     "output_type": "stream",
     "text": [
      "FOR LAG =  3\n"
     ]
    },
    {
     "data": {
      "image/png": "[encoded data removed]",
      "text/plain": [
       "<Figure size 432x288 with 1 Axes>"
      ]
     },
     "metadata": {
      "needs_background": "light"
     },
     "output_type": "display_data"
    },
    {
     "data": {
      "text/html": [
       "<div>\n",
       "<style scoped>\n",
       "    .dataframe tbody tr th:only-of-type {\n",
       "        vertical-align: middle;\n",
       "    }\n",
       "\n",
       "    .dataframe tbody tr th {\n",
       "        vertical-align: top;\n",
       "    }\n",
       "\n",
       "    .dataframe thead th {\n",
       "        text-align: right;\n",
       "    }\n",
       "</style>\n",
       "<table border=\"1\" class=\"dataframe\">\n",
       "  <thead>\n",
       "    <tr style=\"text-align: right;\">\n",
       "      <th></th>\n",
       "      <th>PREDICTED</th>\n",
       "      <th>ORIGINAL</th>\n",
       "    </tr>\n",
       "  </thead>\n",
       "  <tbody>\n",
       "    <tr>\n",
       "      <th>0</th>\n",
       "      <td>-21.083612</td>\n",
       "      <td>-41.577200</td>\n",
       "    </tr>\n",
       "    <tr>\n",
       "      <th>1</th>\n",
       "      <td>3.750895</td>\n",
       "      <td>0.132196</td>\n",
       "    </tr>\n",
       "    <tr>\n",
       "      <th>2</th>\n",
       "      <td>-10.045374</td>\n",
       "      <td>-17.658400</td>\n",
       "    </tr>\n",
       "    <tr>\n",
       "      <th>3</th>\n",
       "      <td>13.304142</td>\n",
       "      <td>14.850900</td>\n",
       "    </tr>\n",
       "    <tr>\n",
       "      <th>4</th>\n",
       "      <td>-14.850447</td>\n",
       "      <td>-21.739700</td>\n",
       "    </tr>\n",
       "    <tr>\n",
       "      <th>...</th>\n",
       "      <td>...</td>\n",
       "      <td>...</td>\n",
       "    </tr>\n",
       "    <tr>\n",
       "      <th>140</th>\n",
       "      <td>-26.037052</td>\n",
       "      <td>-34.467200</td>\n",
       "    </tr>\n",
       "    <tr>\n",
       "      <th>141</th>\n",
       "      <td>-0.976211</td>\n",
       "      <td>-12.057900</td>\n",
       "    </tr>\n",
       "    <tr>\n",
       "      <th>142</th>\n",
       "      <td>51.193592</td>\n",
       "      <td>62.651500</td>\n",
       "    </tr>\n",
       "    <tr>\n",
       "      <th>143</th>\n",
       "      <td>-2.830986</td>\n",
       "      <td>-15.239200</td>\n",
       "    </tr>\n",
       "    <tr>\n",
       "      <th>144</th>\n",
       "      <td>-37.148411</td>\n",
       "      <td>-40.429800</td>\n",
       "    </tr>\n",
       "  </tbody>\n",
       "</table>\n",
       "<p>145 rows × 2 columns</p>\n",
       "</div>"
      ],
      "text/plain": [
       "     PREDICTED   ORIGINAL\n",
       "0   -21.083612 -41.577200\n",
       "1     3.750895   0.132196\n",
       "2   -10.045374 -17.658400\n",
       "3    13.304142  14.850900\n",
       "4   -14.850447 -21.739700\n",
       "..         ...        ...\n",
       "140 -26.037052 -34.467200\n",
       "141  -0.976211 -12.057900\n",
       "142  51.193592  62.651500\n",
       "143  -2.830986 -15.239200\n",
       "144 -37.148411 -40.429800\n",
       "\n",
       "[145 rows x 2 columns]"
      ]
     },
     "execution_count": 13,
     "metadata": {},
     "output_type": "execute_result"
    }
   ],
   "source": [
    "lag = 3\n",
    "Y=[]\n",
    "X=[]\n",
    "for j in range(5,len(all_years),6):\n",
    "    Y.append(all_years[j][0])\n",
    "    p = all_years[j-lag]\n",
    "    X.append(p[1:7])\n",
    "X_train = X[0:120]\n",
    "Y_train=Y[0:120]\n",
    "X_test = X[120:145]\n",
    "Y_test = Y[120:145]\n",
    "xgb_r = xg.XGBRegressor(objective ='reg:squarederror',n_estimators = 10, seed = 123)\n",
    "xgb_r.fit(X,Y)\n",
    "pred_4 = xgb_r.predict(X)\n",
    "    \n",
    "print(\"FOR LAG = \",lag)\n",
    "d={\"PREDICTED\" : pred_4 ,\"ORIGINAL\" : Y}\n",
    "d=pd.DataFrame(d)\n",
    "plt.scatter(pred_4,Y)\n",
    "plt.show()\n",
    "d"
   ]
  },
  {
   "cell_type": "code",
   "execution_count": 14,
   "id": "9cc2b0e3",
   "metadata": {},
   "outputs": [
    {
     "name": "stdout",
     "output_type": "stream",
     "text": [
      "FOR LAG =  4\n"
     ]
    },
    {
     "data": {
      "image/png": "[encoded data removed]",
      "text/plain": [
       "<Figure size 432x288 with 1 Axes>"
      ]
     },
     "metadata": {
      "needs_background": "light"
     },
     "output_type": "display_data"
    },
    {
     "data": {
      "text/html": [
       "<div>\n",
       "<style scoped>\n",
       "    .dataframe tbody tr th:only-of-type {\n",
       "        vertical-align: middle;\n",
       "    }\n",
       "\n",
       "    .dataframe tbody tr th {\n",
       "        vertical-align: top;\n",
       "    }\n",
       "\n",
       "    .dataframe thead th {\n",
       "        text-align: right;\n",
       "    }\n",
       "</style>\n",
       "<table border=\"1\" class=\"dataframe\">\n",
       "  <thead>\n",
       "    <tr style=\"text-align: right;\">\n",
       "      <th></th>\n",
       "      <th>PREDICTED</th>\n",
       "      <th>ORIGINAL</th>\n",
       "    </tr>\n",
       "  </thead>\n",
       "  <tbody>\n",
       "    <tr>\n",
       "      <th>0</th>\n",
       "      <td>-25.520336</td>\n",
       "      <td>-41.577200</td>\n",
       "    </tr>\n",
       "    <tr>\n",
       "      <th>1</th>\n",
       "      <td>0.458628</td>\n",
       "      <td>0.132196</td>\n",
       "    </tr>\n",
       "    <tr>\n",
       "      <th>2</th>\n",
       "      <td>-15.727944</td>\n",
       "      <td>-17.658400</td>\n",
       "    </tr>\n",
       "    <tr>\n",
       "      <th>3</th>\n",
       "      <td>10.611776</td>\n",
       "      <td>14.850900</td>\n",
       "    </tr>\n",
       "    <tr>\n",
       "      <th>4</th>\n",
       "      <td>-19.240786</td>\n",
       "      <td>-21.739700</td>\n",
       "    </tr>\n",
       "    <tr>\n",
       "      <th>...</th>\n",
       "      <td>...</td>\n",
       "      <td>...</td>\n",
       "    </tr>\n",
       "    <tr>\n",
       "      <th>140</th>\n",
       "      <td>-23.892128</td>\n",
       "      <td>-34.467200</td>\n",
       "    </tr>\n",
       "    <tr>\n",
       "      <th>141</th>\n",
       "      <td>-3.292327</td>\n",
       "      <td>-12.057900</td>\n",
       "    </tr>\n",
       "    <tr>\n",
       "      <th>142</th>\n",
       "      <td>44.938614</td>\n",
       "      <td>62.651500</td>\n",
       "    </tr>\n",
       "    <tr>\n",
       "      <th>143</th>\n",
       "      <td>-10.768845</td>\n",
       "      <td>-15.239200</td>\n",
       "    </tr>\n",
       "    <tr>\n",
       "      <th>144</th>\n",
       "      <td>-29.995792</td>\n",
       "      <td>-40.429800</td>\n",
       "    </tr>\n",
       "  </tbody>\n",
       "</table>\n",
       "<p>145 rows × 2 columns</p>\n",
       "</div>"
      ],
      "text/plain": [
       "     PREDICTED   ORIGINAL\n",
       "0   -25.520336 -41.577200\n",
       "1     0.458628   0.132196\n",
       "2   -15.727944 -17.658400\n",
       "3    10.611776  14.850900\n",
       "4   -19.240786 -21.739700\n",
       "..         ...        ...\n",
       "140 -23.892128 -34.467200\n",
       "141  -3.292327 -12.057900\n",
       "142  44.938614  62.651500\n",
       "143 -10.768845 -15.239200\n",
       "144 -29.995792 -40.429800\n",
       "\n",
       "[145 rows x 2 columns]"
      ]
     },
     "execution_count": 14,
     "metadata": {},
     "output_type": "execute_result"
    }
   ],
   "source": [
    "lag = 4\n",
    "Y=[]\n",
    "X=[]\n",
    "for j in range(5,len(all_years),6):\n",
    "    Y.append(all_years[j][0])\n",
    "    p = all_years[j-lag]\n",
    "    X.append(p[1:7])\n",
    "X_train = X[0:120]\n",
    "Y_train=Y[0:120]\n",
    "X_test = X[120:145]\n",
    "Y_test = Y[120:145]\n",
    "xgb_r = xg.XGBRegressor(objective ='reg:squarederror',n_estimators = 10, seed = 123)\n",
    "xgb_r.fit(X,Y)\n",
    "pred_5 = xgb_r.predict(X)\n",
    "    \n",
    "print(\"FOR LAG = \",lag)\n",
    "d={\"PREDICTED\" : pred_5 ,\"ORIGINAL\" : Y}\n",
    "d=pd.DataFrame(d)\n",
    "plt.scatter(pred_5,Y)\n",
    "plt.show()\n",
    "d"
   ]
  },
  {
   "cell_type": "code",
   "execution_count": 15,
   "id": "8810cf6c",
   "metadata": {},
   "outputs": [
    {
     "name": "stdout",
     "output_type": "stream",
     "text": [
      "FOR LAG =  5\n"
     ]
    },
    {
     "data": {
      "image/png": "[encoded data removed]",
      "text/plain": [
       "<Figure size 432x288 with 1 Axes>"
      ]
     },
     "metadata": {
      "needs_background": "light"
     },
     "output_type": "display_data"
    },
    {
     "data": {
      "text/html": [
       "<div>\n",
       "<style scoped>\n",
       "    .dataframe tbody tr th:only-of-type {\n",
       "        vertical-align: middle;\n",
       "    }\n",
       "\n",
       "    .dataframe tbody tr th {\n",
       "        vertical-align: top;\n",
       "    }\n",
       "\n",
       "    .dataframe thead th {\n",
       "        text-align: right;\n",
       "    }\n",
       "</style>\n",
       "<table border=\"1\" class=\"dataframe\">\n",
       "  <thead>\n",
       "    <tr style=\"text-align: right;\">\n",
       "      <th></th>\n",
       "      <th>PREDICTED</th>\n",
       "      <th>ORIGINAL</th>\n",
       "    </tr>\n",
       "  </thead>\n",
       "  <tbody>\n",
       "    <tr>\n",
       "      <th>0</th>\n",
       "      <td>-35.550137</td>\n",
       "      <td>-41.577200</td>\n",
       "    </tr>\n",
       "    <tr>\n",
       "      <th>1</th>\n",
       "      <td>-2.430984</td>\n",
       "      <td>0.132196</td>\n",
       "    </tr>\n",
       "    <tr>\n",
       "      <th>2</th>\n",
       "      <td>-13.944879</td>\n",
       "      <td>-17.658400</td>\n",
       "    </tr>\n",
       "    <tr>\n",
       "      <th>3</th>\n",
       "      <td>14.056604</td>\n",
       "      <td>14.850900</td>\n",
       "    </tr>\n",
       "    <tr>\n",
       "      <th>4</th>\n",
       "      <td>-15.955887</td>\n",
       "      <td>-21.739700</td>\n",
       "    </tr>\n",
       "    <tr>\n",
       "      <th>...</th>\n",
       "      <td>...</td>\n",
       "      <td>...</td>\n",
       "    </tr>\n",
       "    <tr>\n",
       "      <th>140</th>\n",
       "      <td>-28.032677</td>\n",
       "      <td>-34.467200</td>\n",
       "    </tr>\n",
       "    <tr>\n",
       "      <th>141</th>\n",
       "      <td>-5.321594</td>\n",
       "      <td>-12.057900</td>\n",
       "    </tr>\n",
       "    <tr>\n",
       "      <th>142</th>\n",
       "      <td>57.519142</td>\n",
       "      <td>62.651500</td>\n",
       "    </tr>\n",
       "    <tr>\n",
       "      <th>143</th>\n",
       "      <td>-13.023901</td>\n",
       "      <td>-15.239200</td>\n",
       "    </tr>\n",
       "    <tr>\n",
       "      <th>144</th>\n",
       "      <td>-31.333117</td>\n",
       "      <td>-40.429800</td>\n",
       "    </tr>\n",
       "  </tbody>\n",
       "</table>\n",
       "<p>145 rows × 2 columns</p>\n",
       "</div>"
      ],
      "text/plain": [
       "     PREDICTED   ORIGINAL\n",
       "0   -35.550137 -41.577200\n",
       "1    -2.430984   0.132196\n",
       "2   -13.944879 -17.658400\n",
       "3    14.056604  14.850900\n",
       "4   -15.955887 -21.739700\n",
       "..         ...        ...\n",
       "140 -28.032677 -34.467200\n",
       "141  -5.321594 -12.057900\n",
       "142  57.519142  62.651500\n",
       "143 -13.023901 -15.239200\n",
       "144 -31.333117 -40.429800\n",
       "\n",
       "[145 rows x 2 columns]"
      ]
     },
     "execution_count": 15,
     "metadata": {},
     "output_type": "execute_result"
    }
   ],
   "source": [
    "lag = 5\n",
    "Y=[]\n",
    "X=[]\n",
    "for j in range(5,len(all_years),6):\n",
    "    Y.append(all_years[j][0])\n",
    "    p = all_years[j-lag]\n",
    "    X.append(p[1:7])\n",
    "X_train = X[0:120]\n",
    "Y_train=Y[0:120]\n",
    "X_test = X[120:145]\n",
    "Y_test = Y[120:145]\n",
    "xgb_r = xg.XGBRegressor(objective ='reg:squarederror',n_estimators = 10, seed = 123)\n",
    "xgb_r.fit(X,Y)\n",
    "pred_6 = xgb_r.predict(X)\n",
    "    \n",
    "print(\"FOR LAG = \",lag)\n",
    "d={\"PREDICTED\" : pred_6 ,\"ORIGINAL\" : Y}\n",
    "d=pd.DataFrame(d)\n",
    "plt.scatter(pred_6,Y)\n",
    "plt.show()\n",
    "d"
   ]
  },
  {
   "cell_type": "markdown",
   "id": "fcb80bfe",
   "metadata": {},
   "source": [
    "Now printed all the scatter graphs at a same place and selected the best scatter graph from the below graphs."
   ]
  },
  {
   "cell_type": "code",
   "execution_count": 16,
   "id": "576e7fc9",
   "metadata": {},
   "outputs": [
    {
     "data": {
      "image/png": "[encoded data removed]",
      "text/plain": [
       "<Figure size 432x288 with 6 Axes>"
      ]
     },
     "metadata": {
      "needs_background": "light"
     },
     "output_type": "display_data"
    }
   ],
   "source": [
    "plt.subplot(2,3,1)\n",
    "plt.scatter(pred_1,Y)\n",
    "plt.title(\"LAG - 0\")\n",
    "\n",
    "\n",
    "\n",
    "plt.subplot(2,3,2)\n",
    "plt.scatter(pred_2,Y)\n",
    "plt.title(\"LAG - 1\")\n",
    "\n",
    "\n",
    "\n",
    "plt.subplot(2,3,3)\n",
    "plt.scatter(pred_3,Y)\n",
    "plt.title(\"LAG - 2\")\n",
    "\n",
    "\n",
    "plt.subplot(2,3,4)\n",
    "plt.scatter(pred_4,Y)\n",
    "plt.title(\"LAG - 3\")\n",
    "\n",
    "\n",
    "plt.subplot(2,3,5)\n",
    "plt.scatter(pred_5,Y)\n",
    "plt.title(\"LAG - 4\")\n",
    "\n",
    "\n",
    "plt.subplot(2,3,6)\n",
    "plt.scatter(pred_6,Y)\n",
    "plt.title(\"LAG - 5\")\n",
    "plt.show()\n"
   ]
  },
  {
   "cell_type": "markdown",
   "id": "49a3c1f2",
   "metadata": {},
   "source": [
    "# Predicting the lag showing stastistically the best values:\n",
    "\n",
    "From above graphs we can say that the Lag - 1 gives the best results because the for lag 1 the values of the points are closer to the 45 degree slope line i.e. diagonal line .\n",
    "\n",
    "As in scatter plot the best graph will be the one whose points are so close to the central diagonal line.\n"
   ]
  },
  {
   "cell_type": "code",
   "execution_count": null,
   "id": "dbc00536",
   "metadata": {},
   "outputs": [],
   "source": []
  },
  {
   "cell_type": "code",
   "execution_count": null,
   "id": "58fc80f6",
   "metadata": {},
   "outputs": [],
   "source": []
  },
  {
   "cell_type": "markdown",
   "id": "01211c4e",
   "metadata": {},
   "source": [
    "# Repeat the experiment (2,3) for SVM with different kernel values to find the best performing one. Use grid search method to find the best performance.\n",
    "\n",
    "Now i solved the same above for different lags and for different kernals seperately."
   ]
  },
  {
   "cell_type": "code",
   "execution_count": 17,
   "id": "bf3488cd",
   "metadata": {},
   "outputs": [
    {
     "name": "stdout",
     "output_type": "stream",
     "text": [
      "KERNAL = RBF\n",
      "\n"
     ]
    },
    {
     "data": {
      "image/png": "[encoded data removed]",
      "text/plain": [
       "<Figure size 432x288 with 6 Axes>"
      ]
     },
     "metadata": {
      "needs_background": "light"
     },
     "output_type": "display_data"
    }
   ],
   "source": [
    "lag = 0\n",
    "print(\"KERNAL = RBF\")\n",
    "print()\n",
    "for i in range(0,6,1):\n",
    "    lag=i\n",
    "    Y=[]\n",
    "    X=[]\n",
    "    for j in range(5,len(all_years),6):\n",
    "        Y.append(all_years[j][0])\n",
    "        p = all_years[j-lag]\n",
    "        X.append(p[1:7])\n",
    "    X_train = X[0:120]\n",
    "    Y_train=Y[0:120]\n",
    "    X_test = X[120:145]\n",
    "    Y_test = Y[120:145]\n",
    "    regressor = SVR(kernel = 'rbf')\n",
    "    regressor.fit(X,Y)\n",
    "    pred_1 = regressor.predict(X)\n",
    "    \n",
    "    d={\"PREDICTED\" : pred_1 ,\"ORIGINAL\" : Y}\n",
    "    title = \"lag - \"+str(lag)\n",
    "    plt.subplot(2,3,lag+1)\n",
    "    plt.scatter(pred_1,Y)\n",
    "    plt.title(title)\n",
    "plt.show()\n",
    "    "
   ]
  },
  {
   "cell_type": "code",
   "execution_count": 18,
   "id": "d5dc3c73",
   "metadata": {},
   "outputs": [
    {
     "name": "stdout",
     "output_type": "stream",
     "text": [
      "KERNAL = SIGMOID\n",
      "\n"
     ]
    },
    {
     "data": {
      "image/png": "[encoded data removed]",
      "text/plain": [
       "<Figure size 432x288 with 6 Axes>"
      ]
     },
     "metadata": {
      "needs_background": "light"
     },
     "output_type": "display_data"
    }
   ],
   "source": [
    "lag = 0\n",
    "print(\"KERNAL = SIGMOID\")\n",
    "print()\n",
    "for i in range(0,6,1):\n",
    "    lag=i\n",
    "    Y=[]\n",
    "    X=[]\n",
    "    for j in range(5,len(all_years),6):\n",
    "        Y.append(all_years[j][0])\n",
    "        p = all_years[j-lag]\n",
    "        X.append(p[1:7])\n",
    "    X_train = X[0:120]\n",
    "    Y_train=Y[0:120]\n",
    "    X_test = X[120:145]\n",
    "    Y_test = Y[120:145]\n",
    "    regressor = SVR(kernel = 'sigmoid')\n",
    "    regressor.fit(X,Y)\n",
    "    pred_1 = regressor.predict(X)\n",
    "    \n",
    "    d={\"PREDICTED\" : pred_1 ,\"ORIGINAL\" : Y}\n",
    "    title = \"lag - \"+str(lag)\n",
    "    plt.subplot(2,3,lag+1)\n",
    "    plt.scatter(pred_1,Y)\n",
    "    plt.title(title)\n",
    "plt.show()\n",
    "    "
   ]
  },
  {
   "cell_type": "code",
   "execution_count": 19,
   "id": "2e0b6d2c",
   "metadata": {},
   "outputs": [
    {
     "name": "stdout",
     "output_type": "stream",
     "text": [
      "KERNAL = POLY DEGREE OF 4\n",
      "\n"
     ]
    },
    {
     "data": {
      "image/png": "[encoded data removed]",
      "text/plain": [
       "<Figure size 432x288 with 6 Axes>"
      ]
     },
     "metadata": {
      "needs_background": "light"
     },
     "output_type": "display_data"
    }
   ],
   "source": [
    "lag = 0\n",
    "print(\"KERNAL = POLY DEGREE OF 4\")\n",
    "print()\n",
    "for i in range(0,6,1):\n",
    "    lag=i\n",
    "    Y=[]\n",
    "    X=[]\n",
    "    for j in range(5,len(all_years),6):\n",
    "        Y.append(all_years[j][0])\n",
    "        p = all_years[j-lag]\n",
    "        X.append(p[1:7])\n",
    "    X_train = X[0:120]\n",
    "    Y_train=Y[0:120]\n",
    "    X_test = X[120:145]\n",
    "    Y_test = Y[120:145]\n",
    "    regressor = SVR(kernel = 'poly',degree = 4)\n",
    "    regressor.fit(X,Y)\n",
    "    pred_1 = regressor.predict(X)\n",
    "    \n",
    "    d={\"PREDICTED\" : pred_1 ,\"ORIGINAL\" : Y}\n",
    "    title = \"lag - \"+str(lag)\n",
    "    plt.subplot(2,3,lag+1)\n",
    "    plt.scatter(pred_1,Y)\n",
    "    plt.title(title)\n",
    "plt.show()\n",
    "    "
   ]
  },
  {
   "cell_type": "code",
   "execution_count": 20,
   "id": "14002261",
   "metadata": {},
   "outputs": [
    {
     "name": "stdout",
     "output_type": "stream",
     "text": [
      "KERNAL = LINEAR\n",
      "\n"
     ]
    },
    {
     "data": {
      "image/png": "[encoded data removed]",
      "text/plain": [
       "<Figure size 432x288 with 6 Axes>"
      ]
     },
     "metadata": {
      "needs_background": "light"
     },
     "output_type": "display_data"
    }
   ],
   "source": [
    "lag = 0\n",
    "print(\"KERNAL = LINEAR\")\n",
    "print()\n",
    "for i in range(0,6,1):\n",
    "    lag=i\n",
    "    Y=[]\n",
    "    X=[]\n",
    "    for j in range(5,len(all_years),6):\n",
    "        Y.append(all_years[j][0])\n",
    "        p = all_years[j-lag]\n",
    "        X.append(p[1:7])\n",
    "    X_train = X[0:120]\n",
    "    Y_train=Y[0:120]\n",
    "    X_test = X[120:145]\n",
    "    Y_test = Y[120:145]\n",
    "    regressor = SVR(kernel = 'linear')\n",
    "    regressor.fit(X,Y)\n",
    "    pred_1 = regressor.predict(X)\n",
    "    \n",
    "    d={\"PREDICTED\" : pred_1 ,\"ORIGINAL\" : Y}\n",
    "    title = \"lag - \"+str(lag)\n",
    "    plt.subplot(2,3,lag+1)\n",
    "    plt.scatter(pred_1,Y)\n",
    "    plt.title(title)\n",
    "plt.show()\n",
    "    "
   ]
  },
  {
   "cell_type": "code",
   "execution_count": 21,
   "id": "3e6ef12e",
   "metadata": {},
   "outputs": [
    {
     "name": "stdout",
     "output_type": "stream",
     "text": [
      "KERNAL = POLY DEGREE OF 2\n",
      "\n"
     ]
    },
    {
     "data": {
      "image/png": "[encoded data removed]",
      "text/plain": [
       "<Figure size 432x288 with 6 Axes>"
      ]
     },
     "metadata": {
      "needs_background": "light"
     },
     "output_type": "display_data"
    }
   ],
   "source": [
    "lag = 0\n",
    "print(\"KERNAL = POLY DEGREE OF 2\")\n",
    "print()\n",
    "for i in range(0,6,1):\n",
    "    lag=i\n",
    "    Y=[]\n",
    "    X=[]\n",
    "    for j in range(5,len(all_years),6):\n",
    "        Y.append(all_years[j][0])\n",
    "        p = all_years[j-lag]\n",
    "        X.append(p[1:7])\n",
    "    X_train = X[0:120]\n",
    "    Y_train=Y[0:120]\n",
    "    X_test = X[120:145]\n",
    "    Y_test = Y[120:145]\n",
    "    regressor = SVR(kernel = 'poly',degree=2)\n",
    "    regressor.fit(X,Y)\n",
    "    pred_1 = regressor.predict(X)\n",
    "    \n",
    "    d={\"PREDICTED\" : pred_1 ,\"ORIGINAL\" : Y}\n",
    "    title = \"lag - \"+str(lag)\n",
    "    plt.subplot(2,3,lag+1)\n",
    "    plt.scatter(pred_1,Y)\n",
    "    plt.title(title)\n",
    "plt.show()\n",
    "    "
   ]
  },
  {
   "cell_type": "code",
   "execution_count": 22,
   "id": "f41df724",
   "metadata": {},
   "outputs": [
    {
     "name": "stdout",
     "output_type": "stream",
     "text": [
      "KERNAL = POLY DEGREE OF 3\n",
      "\n"
     ]
    },
    {
     "data": {
      "image/png": "[encoded data removed]",
      "text/plain": [
       "<Figure size 432x288 with 6 Axes>"
      ]
     },
     "metadata": {
      "needs_background": "light"
     },
     "output_type": "display_data"
    }
   ],
   "source": [
    "lag = 0\n",
    "print(\"KERNAL = POLY DEGREE OF 3\")\n",
    "print()\n",
    "for i in range(0,6,1):\n",
    "    lag=i\n",
    "    Y=[]\n",
    "    X=[]\n",
    "    for j in range(5,len(all_years),6):\n",
    "        Y.append(all_years[j][0])\n",
    "        p = all_years[j-lag]\n",
    "        X.append(p[1:7])\n",
    "    X_train = X[0:120]\n",
    "    Y_train=Y[0:120]\n",
    "    X_test = X[120:145]\n",
    "    Y_test = Y[120:145]\n",
    "    regressor = SVR(kernel = 'poly',degree=3)\n",
    "    regressor.fit(X,Y)\n",
    "    pred_1 = regressor.predict(X)\n",
    "    \n",
    "    d={\"PREDICTED\" : pred_1 ,\"ORIGINAL\" : Y}\n",
    "    title = \"lag - \"+str(lag)\n",
    "    plt.subplot(2,3,lag+1)\n",
    "    plt.scatter(pred_1,Y)\n",
    "    plt.title(title)\n",
    "plt.show()"
   ]
  },
  {
   "cell_type": "markdown",
   "id": "1e7daafd",
   "metadata": {},
   "source": [
    "So from the above all graphs we are getting smother curves for polynomials of higher degrees it means the dispersion of data is less for higher degree polynomials.\n",
    "\n",
    "\n",
    "As polynomials of higher degrees will give the better data as it can cover all the types of lower order polynomials.\n"
   ]
  },
  {
   "cell_type": "code",
   "execution_count": null,
   "id": "9f96614d",
   "metadata": {},
   "outputs": [],
   "source": []
  }
 ],
 "metadata": {
  "kernelspec": {
   "display_name": "Python 3 (ipykernel)",
   "language": "python",
   "name": "python3"
  },
  "language_info": {
   "codemirror_mode": {
    "name": "ipython",
    "version": 3
   },
   "file_extension": ".py",
   "mimetype": "text/x-python",
   "name": "python",
   "nbconvert_exporter": "python",
   "pygments_lexer": "ipython3",
   "version": "3.10.1"
  }
 },
 "nbformat": 4,
 "nbformat_minor": 5
}
